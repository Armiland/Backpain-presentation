{
 "cells": [
  {
   "cell_type": "code",
   "execution_count": null,
   "metadata": {},
   "outputs": [],
   "source": [
    "import pandas as pd\n",
    "import matplotlib as plt\n",
    "import matplotlib.pyplot as plt\n",
    "import numpy as np\n",
    "\n",
    "df = pd.read_csv('backpain.csv')\n",
    "\n",
    "print(df.head())"
   ]
  },
  {
   "cell_type": "code",
   "execution_count": null,
   "metadata": {},
   "outputs": [],
   "source": [
    "columns_to_remove = ['MBTI', 'E', 'I', 'S', 'N', 'T', 'F', 'J', 'P', 'S No', 'POSTURE']\n",
    "df = df.drop(columns=columns_to_remove)\n",
    "\n",
    "print (df.head())"
   ]
  },
  {
   "cell_type": "code",
   "execution_count": null,
   "metadata": {},
   "outputs": [],
   "source": [
    "df['PAIN AVERAGE'] = df[['PAIN 1', 'PAIN 2', 'PAIN 3', 'PAIN 4']].mean(axis=1)\n",
    "\n",
    "print(df.head())"
   ]
  },
  {
   "cell_type": "code",
   "execution_count": null,
   "metadata": {},
   "outputs": [],
   "source": [
    "columns_to_remove = ['PAIN 1', 'PAIN 2', 'PAIN 3', 'PAIN 4']\n",
    "df = df.drop(columns=columns_to_remove)\n",
    "\n",
    "print (df.head())"
   ]
  },
  {
   "cell_type": "code",
   "execution_count": null,
   "metadata": {},
   "outputs": [],
   "source": [
    "df = df.reindex(columns=['SEX'] + list(df.columns.drop('SEX'))) \n",
    "\n",
    "print (df.head())"
   ]
  },
  {
   "cell_type": "code",
   "execution_count": null,
   "metadata": {},
   "outputs": [],
   "source": [
    "gender_counts = df['SEX'].value_counts()\n",
    "\n",
    "plt.pie(gender_counts, labels=gender_counts.index, autopct='%1.1f%%')\n",
    "\n",
    "plt.title('Distribution of Genders')\n",
    "\n",
    "plt.show()"
   ]
  },
  {
   "cell_type": "code",
   "execution_count": null,
   "metadata": {},
   "outputs": [],
   "source": [
    "fig, (ax1, ax2) = plt.subplots(1, 2, figsize=(12, 6))\n",
    "\n",
    "male_data = df[df['SEX'] == 'Male']\n",
    "\n",
    "ax1.scatter(male_data['PAIN AVERAGE'], male_data.index, color='blue', label='Male')\n",
    "ax1.set_xlabel('PAIN AVERAGE')\n",
    "ax1.set_ylabel('Data Point Index')\n",
    "ax1.legend()\n",
    "\n",
    "female_data = df[df['SEX'] == 'Female']\n",
    "\n",
    "ax2.scatter(female_data['PAIN AVERAGE'], female_data.index, color='red', label='Female')\n",
    "ax2.set_xlabel('PAIN AVERAGE')\n",
    "ax2.set_ylabel('Data Point Index')\n",
    "ax2.legend()\n",
    "\n",
    "plt.tight_layout()\n",
    "\n",
    "plt.show()"
   ]
  },
  {
   "cell_type": "code",
   "execution_count": null,
   "metadata": {},
   "outputs": [],
   "source": [
    "\n",
    "\n",
    "age_groups = np.arange(10, 100, 10)\n",
    "\n",
    "average_pain_male = [df[(df['SEX'] == 'Male') & (df['AGE'] // 10 == i)]['PAIN AVERAGE'].mean() for i in range(1, 10)]\n",
    "average_pain_female = [df[(df['SEX'] == 'Female') & (df['AGE'] // 10 == i)]['PAIN AVERAGE'].mean() for i in range(1, 10)]\n",
    "\n",
    "bar_width = 0.35\n",
    "index = np.arange(len(age_groups))\n",
    "plt.bar(index, average_pain_male, bar_width, color='blue', label='Male')\n",
    "plt.bar(index + bar_width, average_pain_female, bar_width, color='red', label='Female')\n",
    "\n",
    "plt.xlabel('Age')\n",
    "plt.ylabel('Average Pain')\n",
    "plt.title('Average Pain by Age and Sex')\n",
    "plt.xticks(index + bar_width / 2, age_groups)\n",
    "\n",
    "plt.legend()\n",
    "\n",
    "plt.show()"
   ]
  },
  {
   "cell_type": "code",
   "execution_count": null,
   "metadata": {},
   "outputs": [],
   "source": [
    "import time\n",
    "from pyfiglet import Figlet\n",
    "from termcolor import colored\n",
    "\n",
    "def animate_text():\n",
    "    text = \"In conclusion, back pain sucks. The End.\"\n",
    "    box_padding = 10  # Additional padding on each side of the text\n",
    "    box_width = 100  # Width of the box (including borders)\n",
    "    box_border = \"\\033[1;34m#\\033[0m\" * box_width  # Box border using blue color\n",
    "   \n",
    "    f = Figlet(font='big')  # Specify the font\n",
    "   \n",
    "    styled_text = f.renderText(text)\n",
    "    styled_text = styled_text.replace('\\n', ' ' * (box_width - len(text)) + '\\n')\n",
    "    styled_text = colored(styled_text, \"white\", \"on_grey\", attrs=[\"bold\"])\n",
    "   \n",
    "    print(f\"{box_border}\\n{styled_text}{box_border}\")\n",
    "   \n",
    "    sleep_time = max(1, len(text) // 20)\n",
    "    time.sleep(sleep_time)\n",
    "\n",
    "animate_text()"
   ]
  },
  {
   "cell_type": "code",
   "execution_count": null,
   "metadata": {},
   "outputs": [],
   "source": []
  },
  {
   "cell_type": "code",
   "execution_count": null,
   "metadata": {},
   "outputs": [],
   "source": []
  },
  {
   "cell_type": "code",
   "execution_count": null,
   "metadata": {},
   "outputs": [],
   "source": []
  }
 ],
 "metadata": {
  "kernelspec": {
   "display_name": "Python 3",
   "language": "python",
   "name": "python3"
  },
  "language_info": {
   "codemirror_mode": {
    "name": "ipython",
    "version": 3
   },
   "file_extension": ".py",
   "mimetype": "text/x-python",
   "name": "python",
   "nbconvert_exporter": "python",
   "pygments_lexer": "ipython3",
   "version": "3.11.4"
  },
  "orig_nbformat": 4
 },
 "nbformat": 4,
 "nbformat_minor": 2
}
